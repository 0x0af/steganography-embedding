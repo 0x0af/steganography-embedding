{
 "cells": [
  {
   "cell_type": "code",
   "execution_count": 3,
   "metadata": {
    "collapsed": false
   },
   "outputs": [],
   "source": [
    "# -*- coding: utf-8 -*-\n",
    "\"\"\"\n",
    "Created on Thu Jul 23 2015\n",
    "\n",
    "@author: Anton at 0x0af@ukr.net\n",
    "\"\"\"\n",
    "\n",
    "import numpy\n",
    "import scipy\n",
    "import copy, math\n",
    "from scipy.fftpack import dct, idct"
   ]
  },
  {
   "cell_type": "code",
   "execution_count": 4,
   "metadata": {
    "collapsed": false
   },
   "outputs": [],
   "source": [
    "def SchurDecomposition(GrayscaleImage):\n",
    "    \"\"\"\n",
    "     Schur decomposition. Input a grayscale image to get it's upper triangular matrix and unitary matrix.\n",
    "     \n",
    "     Schur's theorem announced that : if A ∈ Cn×n, there exists a unitary matrix U and an upper triangular matrix T,\n",
    "     such that: A = U × T × U'\n",
    "     \n",
    "     0x0af@ukr.net, 23-July-2015\n",
    "    \"\"\"\n",
    "    \n",
    "    # TODO: implement Schur decomposition\n",
    "    \n",
    "    TriangularMatrix = GrayscaleImage\n",
    "    UnitaryMatrix = GrayscaleImage\n",
    "    \n",
    "    return TriangularMatrix, UnitaryMatrix"
   ]
  },
  {
   "cell_type": "code",
   "execution_count": 5,
   "metadata": {
    "collapsed": false
   },
   "outputs": [],
   "source": [
    "def InverseSchurDecomposition(UnitaryMatrix,TriangularMatrix):\n",
    "    \"\"\"\n",
    "     Inverse Schur decomposition. Input a 2D unitary matrix and a 2D triangular matrix to get the original grayscale image\n",
    "    \n",
    "     23-July-2015\n",
    "    \"\"\"\n",
    "    \n",
    "    # TODO: implement inverse Schur decomposition\n",
    "    \n",
    "    return OriginalGrayscaleImage"
   ]
  },
  {
   "cell_type": "code",
   "execution_count": 12,
   "metadata": {
    "collapsed": false
   },
   "outputs": [],
   "source": [
    "def RazafindradinaEmbed(GrayscaleContainerPath,GrayscaleWatermarkPath,Alpha):\n",
    "    \"\"\"    \n",
    "    Razafindradina embedding method implementation. \n",
    "    \n",
    "    Outputs the resulting watermarked image\n",
    "    \n",
    "    23-July-2015\n",
    "    \"\"\"\n",
    "    \n",
    "    grayscaleContainer2DArray = numpy.asarray(Image.open(GrayscaleContainerPath).convert(\"L\"))\n",
    "    grayscaleWatermark2DArray = numpy.asarray(Image.open(GrayscaleWatermarkPath).convert(\"L\"))\n",
    "    \n",
    "    assert (grayscaleContainer2DArray.shape(0)==grayscaleWatermark2DArray.shape(0)) and (grayscaleContainer2DArray.shape(1)==grayscaleWatermark2DArray.shape(1)), 'GrayscaleContainer and GrayscaleWatermark sizes do not match' \n",
    "    \n",
    "    # Perform DCT on GrayscaleContainer\n",
    "    \n",
    "    # Perform SchurDecomposition on GrayscaleWatermark\n",
    "    \n",
    "    # Alpha-blend GrayscaleWatermark TriangularMatrix into GrayscaleContainer DCT coeffs with Alpha\n",
    "    \n",
    "    # Perform IDCT on GrayscaleContainer DCT coeffs to get WatermarkedImage\n",
    "    \n",
    "    watermarkedImage = Image.fromarray(numpy.uint8(grayscaleContainer2DArray))\n",
    "    #watermarkedImage.show()\n",
    "    \n",
    "    # Write image to file\n",
    "    \n",
    "    watermarkedImage.save(WatermarkedImagePath)\n",
    "    \n",
    "    return UnitaryMatrix"
   ]
  },
  {
   "cell_type": "code",
   "execution_count": 13,
   "metadata": {
    "collapsed": false
   },
   "outputs": [],
   "source": [
    "def RazafindradinaExtract(GrayscaleStegoPath, GrayscaleContainerPath, ExtractedGrayscaleWatermarkPath UnitaryMatrix, Alpha):\n",
    "    \"\"\"\n",
    "    Rezefindradina extracting method implementation.\n",
    "    \n",
    "    Outputs the extracted watermark\n",
    "    \n",
    "    23-July-2015\n",
    "    \"\"\"\n",
    "    \n",
    "    grayscaleContainer2DArray = numpy.asarray(Image.open(GrayscaleContainerPath).convert(\"L\"))\n",
    "    grayscaleStego2DArray = numpy.asarray(Image.open(GrayscaleStegoPath).convert(\"L\"))\n",
    "    \n",
    "    # Perform DCT on GrayscaleContainer\n",
    "    \n",
    "    # Perform DCT on GrayscaleStego\n",
    "    \n",
    "    # Extract GrayscaleWatermark TriangularMatrix with Alpha\n",
    "    \n",
    "    # Perform InverseSchurDecomposition on UnitaryMatrix and TrinagularMatrix to get ExtractedGrayscaleWatermark\n",
    "    \n",
    "    extractedGrayscaleWatermark = Image.fromarray(numpy.uint8(GrayscaleWatermark))\n",
    "    #watermarkedImage.show()\n",
    "    \n",
    "    # Write image to file\n",
    "    \n",
    "    extractedGrayscaleWatermark.save(ExtractedGrayscaleWatermarkPath)\n",
    "    \n",
    "    return"
   ]
  },
  {
   "cell_type": "code",
   "execution_count": null,
   "metadata": {
    "collapsed": false
   },
   "outputs": [],
   "source": []
  }
 ],
 "metadata": {
  "kernelspec": {
   "display_name": "Python 2",
   "language": "python",
   "name": "python2"
  },
  "language_info": {
   "codemirror_mode": {
    "name": "ipython",
    "version": 2
   },
   "file_extension": ".py",
   "mimetype": "text/x-python",
   "name": "python",
   "nbconvert_exporter": "python",
   "pygments_lexer": "ipython2",
   "version": "2.7.10"
  }
 },
 "nbformat": 4,
 "nbformat_minor": 0
}
