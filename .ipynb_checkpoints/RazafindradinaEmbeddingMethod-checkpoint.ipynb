{
 "cells": [
  {
   "cell_type": "code",
   "execution_count": 67,
   "metadata": {
    "collapsed": false
   },
   "outputs": [],
   "source": [
    "# -*- coding: utf-8 -*-\n",
    "\"\"\"\n",
    "Created on Thu Jul 23 2015\n",
    "\n",
    "@author: Anton at 0x0af@ukr.net\n",
    "\"\"\"\n",
    "\n",
    "import numpy\n",
    "import scipy\n",
    "import copy, math\n",
    "from scipy.fftpack import dct, idct\n",
    "from scipy.linalg import schur\n",
    "from PIL import Image"
   ]
  },
  {
   "cell_type": "code",
   "execution_count": 68,
   "metadata": {
    "collapsed": false
   },
   "outputs": [],
   "source": [
    "def SchurDecomposition(GrayscaleImage2DArray):\n",
    "    \"\"\"\n",
    "     Schur decomposition. Input a grayscale image to get it's upper triangular matrix and unitary matrix.\n",
    "     \n",
    "     Schur's theorem announced that : if A ∈ Cn×n, there exists a unitary matrix U and an upper triangular matrix T,\n",
    "     such that: A = U × T × U'\n",
    "     \n",
    "     0x0af@ukr.net, 23-July-2015\n",
    "    \"\"\"\n",
    "    \n",
    "    TriangularMatrix, UnitaryMatrix = scipy.linalg.schur(GrayscaleImage2DArray)\n",
    "    \n",
    "    return TriangularMatrix, UnitaryMatrix"
   ]
  },
  {
   "cell_type": "code",
   "execution_count": 74,
   "metadata": {
    "collapsed": false
   },
   "outputs": [],
   "source": [
    "def InverseSchurDecomposition(TriangularMatrix, UnitaryMatrix):\n",
    "    \"\"\"\n",
    "     Inverse Schur decomposition. Input a 2D unitary matrix and a 2D triangular matrix to get the original grayscale image\n",
    "    \n",
    "     23-July-2015\n",
    "    \"\"\"\n",
    "    \n",
    "    OriginalGrayscaleImage2DArray = numpy.dot(UnitaryMatrix , numpy.dot(TriangularMatrix, UnitaryMatrix.conj().T))\n",
    "    \n",
    "    return OriginalGrayscaleImage2DArray"
   ]
  },
  {
   "cell_type": "code",
   "execution_count": 75,
   "metadata": {
    "collapsed": false
   },
   "outputs": [],
   "source": [
    "def RazafindradinaEmbed(GrayscaleContainerPath,GrayscaleWatermarkPath,WatermarkedImagePath,Alpha):\n",
    "    \"\"\"    \n",
    "    Razafindradina embedding method implementation. \n",
    "    \n",
    "    Outputs the resulting watermarked image\n",
    "    \n",
    "    23-July-2015\n",
    "    \"\"\"\n",
    "    \n",
    "    grayscaleContainer2DArray = numpy.asarray(Image.open(GrayscaleContainerPath).convert(\"L\"))\n",
    "    grayscaleWatermark2DArray = numpy.asarray(Image.open(GrayscaleWatermarkPath).convert(\"L\"))\n",
    "    \n",
    "    assert (grayscaleContainer2DArray.shape[0]==grayscaleContainer2DArray.shape[1]) and (grayscaleContainer2DArray.shape[0]==grayscaleWatermark2DArray.shape[0]) and (grayscaleContainer2DArray.shape[1]==grayscaleWatermark2DArray.shape[1]), 'GrayscaleContainer and GrayscaleWatermark sizes do not match or not square' \n",
    "    \n",
    "    # Perform DCT on GrayscaleContainer\n",
    "    \n",
    "    #print grayscaleContainer2DArray\n",
    "    \n",
    "    GCDCT = dct(dct(grayscaleContainer2DArray,axis=0,norm='ortho'),axis=1,norm='ortho')\n",
    "    \n",
    "    #print grayscaleContainer2DArray\n",
    "    \n",
    "    # Perform SchurDecomposition on GrayscaleWatermark\n",
    "    \n",
    "    GWSDT, GWSDU = SchurDecomposition(grayscaleWatermark2DArray)\n",
    "    \n",
    "    # Alpha-blend GrayscaleWatermark TriangularMatrix into GrayscaleContainer DCT coeffs with Alpha\n",
    "    \n",
    "    GCDCT += GWSDT * Alpha\n",
    "    \n",
    "    # Perform IDCT on GrayscaleContainer DCT coeffs to get WatermarkedImage\n",
    "    \n",
    "    watermarkedImage2DArray = idct(idct(GCDCT,axis=0,norm='ortho'),axis=1,norm='ortho')\n",
    "    \n",
    "    watermarkedImage2DArray[watermarkedImage2DArray>255] = 255\n",
    "    watermarkedImage2DArray[watermarkedImage2DArray<0] = 0\n",
    "    \n",
    "    watermarkedImage = Image.fromarray(numpy.uint8(watermarkedImage2DArray))\n",
    "    watermarkedImage.show()\n",
    "    \n",
    "    # Write image to file\n",
    "    \n",
    "    watermarkedImage.save(WatermarkedImagePath)\n",
    "    \n",
    "    return"
   ]
  },
  {
   "cell_type": "code",
   "execution_count": 76,
   "metadata": {
    "collapsed": false
   },
   "outputs": [],
   "source": [
    "def RazafindradinaExtract(GrayscaleStegoPath, GrayscaleContainerPath, GrayscaleWatermarkPath, ExtractedGrayscaleWatermarkPath, Alpha):\n",
    "    \"\"\"\n",
    "    Rezefindradina extracting method implementation.\n",
    "    \n",
    "    Outputs the extracted watermark\n",
    "    \n",
    "    23-July-2015\n",
    "    \"\"\"\n",
    "    \n",
    "    grayscaleContainer2DArray = numpy.asarray(Image.open(GrayscaleContainerPath).convert(\"L\"))\n",
    "    grayscaleStego2DArray = numpy.asarray(Image.open(GrayscaleStegoPath).convert(\"L\"))\n",
    "    grayscaleWatermark2DArray = numpy.asarray(Image.open(GrayscaleWatermarkPath).convert(\"L\"))\n",
    "    \n",
    "    # Perform DCT on GrayscaleContainer\n",
    "    \n",
    "    GCDCT = dct(dct(grayscaleContainer2DArray,axis=0,norm='ortho'),axis=1,norm='ortho')\n",
    "    \n",
    "    # Perform DCT on GrayscaleStego\n",
    "    \n",
    "    GSDCT = dct(dct(grayscaleStego2DArray,axis=0,norm='ortho'),axis=1,norm='ortho')\n",
    "    \n",
    "    # Extract ExtractedWatermarkTriangularMatrix with Alpha\n",
    "    \n",
    "    EWSDT = (GSDCT - GCDCT) / Alpha\n",
    "    \n",
    "    # Perform InverseSchurDecomposition on UnitaryMatrix (non-embedded) and TrinagularMatrix to get ExtractedGrayscaleWatermark\n",
    "    \n",
    "    GWSDT, GWSDU = SchurDecomposition(grayscaleWatermark2DArray)\n",
    "    \n",
    "    ExtractedWatermark2DArray = InverseSchurDecomposition(EWSDT,GWSDU)\n",
    "    \n",
    "    ExtractedWatermark2DArray[ExtractedWatermark2DArray>255] = 255\n",
    "    ExtractedWatermark2DArray[ExtractedWatermark2DArray<0] = 0\n",
    "    \n",
    "    extractedGrayscaleWatermark = Image.fromarray(numpy.uint8(ExtractedWatermark2DArray))\n",
    "    extractedGrayscaleWatermark.show()\n",
    "    \n",
    "    # Write image to file\n",
    "    \n",
    "    extractedGrayscaleWatermark.save(ExtractedGrayscaleWatermarkPath)\n",
    "    \n",
    "    return"
   ]
  },
  {
   "cell_type": "code",
   "execution_count": 82,
   "metadata": {
    "collapsed": false
   },
   "outputs": [],
   "source": [
    "RazafindradinaEmbed(\"C:\\Users\\Tony\\Documents\\GitHub\\steganography-embedding\\GrayscaleContainer.bmp\",\"C:\\Users\\Tony\\Documents\\GitHub\\steganography-embedding\\SameSizeGrayscaleWatermark.bmp\",\"C:\\Users\\Tony\\Documents\\GitHub\\steganography-embedding\\Razafindradina_Watermarked_Image.bmp\",0.01)"
   ]
  },
  {
   "cell_type": "code",
   "execution_count": 83,
   "metadata": {
    "collapsed": false
   },
   "outputs": [],
   "source": [
    "RazafindradinaExtract(\"C:\\Users\\Tony\\Documents\\GitHub\\steganography-embedding\\Razafindradina_Watermarked_Image.bmp\",\"C:\\Users\\Tony\\Documents\\GitHub\\steganography-embedding\\GrayscaleContainer.bmp\",\"C:\\Users\\Tony\\Documents\\GitHub\\steganography-embedding\\SameSizeGrayscaleWatermark.bmp\",\"C:\\Users\\Tony\\Documents\\GitHub\\steganography-embedding\\Razafindradina_Extracted_Watermark.bmp\",0.01)"
   ]
  },
  {
   "cell_type": "code",
   "execution_count": null,
   "metadata": {
    "collapsed": true
   },
   "outputs": [],
   "source": []
  }
 ],
 "metadata": {
  "kernelspec": {
   "display_name": "Python 2",
   "language": "python",
   "name": "python2"
  },
  "language_info": {
   "codemirror_mode": {
    "name": "ipython",
    "version": 2
   },
   "file_extension": ".py",
   "mimetype": "text/x-python",
   "name": "python",
   "nbconvert_exporter": "python",
   "pygments_lexer": "ipython2",
   "version": "2.7.10"
  }
 },
 "nbformat": 4,
 "nbformat_minor": 0
}
