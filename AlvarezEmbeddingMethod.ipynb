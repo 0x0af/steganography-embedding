{
 "cells": [
  {
   "cell_type": "code",
   "execution_count": 4,
   "metadata": {
    "collapsed": false
   },
   "outputs": [
    {
     "data": {
      "text/plain": [
       "'\\nCreated on Thu Jul 23 2015\\n\\n@author: Anton at 0x0af@ukr.net\\n'"
      ]
     },
     "execution_count": 4,
     "metadata": {},
     "output_type": "execute_result"
    }
   ],
   "source": [
    "# -*- coding: utf-8 -*-\n",
    "\"\"\"\n",
    "Created on Thu Jul 23 2015\n",
    "\n",
    "@author: Anton at 0x0af@ukr.net\n",
    "\"\"\""
   ]
  },
  {
   "cell_type": "code",
   "execution_count": 5,
   "metadata": {
    "collapsed": false
   },
   "outputs": [],
   "source": [
    "def AlvarezEmbed(GrayscaleContainer,BinaryWatermark,Alpha):\n",
    "    \"\"\"    \n",
    "    Alvarez embedding method implementation. \n",
    "    \n",
    "    Outputs the resulting watermarked image\n",
    "    \n",
    "    23-July-2015\n",
    "    \"\"\"\n",
    "    \n",
    "    assert(BinaryWatermark.ndim == 2),'Error. Stegodata should be represented as a binary image.';\n",
    "    assert(GrayscaleContainer.ndim == 2),'Error. Cover image should be represented as grayscale image.';\n",
    "    assert(isinstance(Alpha,float) and (Alpha > 0)),'Error. You should input the attenuation coefficient Alpha for stegodata as scalar (float type).';\n",
    "    \n",
    "    # TODO: implement embedding procedures\n",
    "    \n",
    "    return WatermarkedImage, NormalisedHadamardMatrix;"
   ]
  },
  {
   "cell_type": "code",
   "execution_count": 2,
   "metadata": {
    "collapsed": false
   },
   "outputs": [],
   "source": [
    "def AlvarezExtract(GrayscaleStego, NormalisedHadamardMatrix):\n",
    "    \"\"\"\n",
    "    Alvarez extacting method implementation.\n",
    "    \n",
    "    Outputs the extracted watermark\n",
    "    \n",
    "    23-July-2015\n",
    "    \"\"\"\n",
    "    \n",
    "    #TODO: implement extracting process\n",
    "    \n",
    "    return BinaryWatermark;"
   ]
  },
  {
   "cell_type": "code",
   "execution_count": 3,
   "metadata": {
    "collapsed": false
   },
   "outputs": [],
   "source": [
    "def GeneticAlgorithmPretreatment(BinaryWatermark):\n",
    "    \"\"\"\n",
    "    Steady-State genetic algorithm pretreatment implementation to get the most uncorrelated binary watermark permutation\n",
    "    \n",
    "    Outputs the permuted watermark\n",
    "    \n",
    "    23-July-2015\n",
    "    \"\"\"\n",
    "    \n",
    "    #TODO: implement genetic algorithm pretreatment\n",
    "    \n",
    "    return PermutedBinaryWatermark;"
   ]
  },
  {
   "cell_type": "code",
   "execution_count": null,
   "metadata": {
    "collapsed": false
   },
   "outputs": [],
   "source": []
  }
 ],
 "metadata": {
  "kernelspec": {
   "display_name": "Python 2",
   "language": "python",
   "name": "python2"
  },
  "language_info": {
   "codemirror_mode": {
    "name": "ipython",
    "version": 2
   },
   "file_extension": ".py",
   "mimetype": "text/x-python",
   "name": "python",
   "nbconvert_exporter": "python",
   "pygments_lexer": "ipython2",
   "version": "2.7.10"
  }
 },
 "nbformat": 4,
 "nbformat_minor": 0
}
