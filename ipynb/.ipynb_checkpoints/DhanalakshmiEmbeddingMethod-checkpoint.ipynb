{
 "cells": [
  {
   "cell_type": "code",
   "execution_count": 32,
   "metadata": {
    "collapsed": false
   },
   "outputs": [],
   "source": [
    "# -*- coding: utf-8 -*-\n",
    "\"\"\"\n",
    "Created on Thu Jul 23 2015\n",
    "\n",
    "@author: Anton at 0x0af@ukr.net\n",
    "\"\"\"\n",
    "\n",
    "import numpy,scipy\n",
    "import copy, math\n",
    "from scipy.fftpack import dct, idct\n",
    "import pywt\n",
    "from PIL import Image"
   ]
  },
  {
   "cell_type": "code",
   "execution_count": 49,
   "metadata": {
    "collapsed": false
   },
   "outputs": [],
   "source": [
    "def DhanalakshmiEmbed(GrayscaleContainerPath,GrayscalePrimaryWatermarkPath,GrayscaleSecondaryWatermarkPath,WatermarkedImagePath,Alpha1,Alpha2):\n",
    "    \"\"\"    \n",
    "    Dhanalakshmi embedding method implementation. \n",
    "    \n",
    "    Outputs the resulting watermarked image\n",
    "    \n",
    "    23-July-2015\n",
    "    \"\"\"\n",
    "    \n",
    "    grayscaleContainer2DArray = numpy.asarray(Image.open(GrayscaleContainerPath).convert(\"L\"))\n",
    "    grayscalePrimaryWatermark2DArray = numpy.asarray(Image.open(GrayscalePrimaryWatermarkPath).convert(\"L\"))\n",
    "    grayscaleSecondaryWatermark2DArray = numpy.asarray(Image.open(GrayscaleSecondaryWatermarkPath).convert(\"L\"))\n",
    "    \n",
    "    print grayscaleContainer2DArray.shape\n",
    "    \n",
    "    # Perform DWT on PrimaryWatermark\n",
    "    \n",
    "    GPWLL,(GPWLH,GPWHL,GPWHH) = pywt.dwt2(grayscalePrimaryWatermark2DArray, 'haar')\n",
    "    \n",
    "    # Perform SVD on PrimaryWatermark DWT coeffs\n",
    "    \n",
    "    GPWLLU,GPWLLS,GPWLLV = numpy.linalg.svd(GPWLL,full_matrices = True)\n",
    "    GPWLHU,GPWLHS,GPWLHV = numpy.linalg.svd(GPWLH,full_matrices = True)\n",
    "    GPWHLU,GPWHLS,GPWHLV = numpy.linalg.svd(GPWHL,full_matrices = True)\n",
    "    GPWHHU,GPWHHS,GPWHHV = numpy.linalg.svd(GPWHH,full_matrices = True)\n",
    "    \n",
    "    print GPWLLS.shape,GPWLHS.shape,GPWHLS.shape,GPWHHS.shape\n",
    "    \n",
    "    # Perform SVD on SecondaryWatermark\n",
    "    \n",
    "    GSWU,GSWS,GSWV = numpy.linalg.svd(grayscaleSecondaryWatermark2DArray,full_matrices = True)\n",
    "    \n",
    "    print GSWS.shape\n",
    "    \n",
    "    # Alpha-blend SecondaryWatermark singular values into PrimaryWatermark DWT coeffs singular values\n",
    "    \n",
    "    GPWLLS += Alpha1 * GSWS\n",
    "    GPWLHS += Alpha1 * GSWS\n",
    "    GPWHLS += Alpha1 * GSWS\n",
    "    GPWHHS += Alpha1 * GSWS\n",
    "    \n",
    "    # TODO: Perform LogisticMapChaoticEncryption on SecondaryWatermark singular values\n",
    "    \n",
    "    # Break GrayscaleContainer into non-overlapping blocks of PrimaryWatermark's shape an run for each\n",
    "    \n",
    "    watermarkedImage = Image.zeros(grayscaleContainer2DArray.shape)\n",
    "    \n",
    "    BLOCK = grayscalePrimaryWatermark2DArray.shape[0]\n",
    "    COLS = grayscaleContainer2DArray.shape[0] / grayscalePrimaryWatermark2DArray.shape[0]\n",
    "    ROWS = grayscaleContainer2DArray.shape[1] / grayscalePrimaryWatermark2DArray.shape[1]\n",
    "    \n",
    "    for row in range(1,ROWS):\n",
    "        for col in range(1,COLS):\n",
    "\n",
    "            # Perform DWT on GrayscaleContainer's block\n",
    "\n",
    "            GCBLL,(GCBLH,GCBHL,GCBHH) = pywt.dwt2(grayscaleContainer2DArray[(row-1)*BLOCK:row*BLOCK,(col-1)*BLOCK:col*BLOCK], 'haar')\n",
    "\n",
    "            # Perform SVD on GrayscaleContainer's block DWT coeffs\n",
    "\n",
    "            GCBLLU,GCBLLS,GCBLLV = numpy.linalg.svd(GCBLL,full_matrices = True)\n",
    "            GCBLHU,GCBLHS,GCBLHV = numpy.linalg.svd(GCBLH,full_matrices = True)\n",
    "            GCBHLU,GCBHLS,GCBHLV = numpy.linalg.svd(GCBHL,full_matrices = True)\n",
    "            GCBHHU,GCBHHS,GCBHHV = numpy.linalg.svd(GCBHH,full_matrices = True)\n",
    "\n",
    "            # Alpha-blend PrimaryWatermark singular values into GrayscaleContainer's block DWT coeffs singular values\n",
    "\n",
    "            GCBLLS += Alpha2 * GPWLLS\n",
    "            GCBLHS += Alpha2 * GPWLHS\n",
    "            GCBHLS += Alpha2 * GPWHLS\n",
    "            GCBHHS += Alpha2 * GPWHHS\n",
    "\n",
    "            # Perform ISVD to get the WatermarkedImage's block DWT coeffs\n",
    "\n",
    "            # Perform IDWT to get the WatermarkedImage's block\n",
    "\n",
    "            # Put WatermarkedImage's block into WatermarkedImage\n",
    "    \n",
    "    watermarkedImage.show()\n",
    "    \n",
    "    # Write image to file\n",
    "    \n",
    "    watermarkedImage.save(WatermarkedImagePath)\n",
    "    \n",
    "    return"
   ]
  },
  {
   "cell_type": "code",
   "execution_count": 45,
   "metadata": {
    "collapsed": false
   },
   "outputs": [],
   "source": [
    "def DhanalakshmiExtract(GrayscaleStegoPath,GrayscaleContainerPath,GrayscaleSecondaryWatermarkPath,GrayscalePrimaryExtractedWatermarkPath,GrayscaleSecondaryExtractedWatermarkPath,Alpha1,Alpha2):\n",
    "    \"\"\"\n",
    "    Dhanalakshmi extracting method implementation.\n",
    "    \n",
    "    Outputs the extracted watermark\n",
    "    \n",
    "    23-July-2015\n",
    "    \"\"\"\n",
    "    \n",
    "    grayscaleStego2DArray = numpy.asarray(Image.open(GrayscaleStegoPath).convert(\"L\"))\n",
    "    grayscaleContainer2DArray = numpy.asarray(Image.open(GrayscaleContainerPath).convert(\"L\"))\n",
    "    grayscaleSecondaryWatermark2DArray = numpy.asarray(Image.open(GrayscaleSecondaryWatermarkPath).convert(\"L\"))\n",
    "    \n",
    "    # Perform DWT on GrayscaleStego\n",
    "    \n",
    "    # Perform SVD on GrayscaleStego DWT coeffs\n",
    "    \n",
    "    # Perform DWT on GrayscaleContainer\n",
    "    \n",
    "    # Perform SVD on GrayscaleContainer DWT coeffs\n",
    "    \n",
    "    # Extract EncryptedSecondaryWatermark singular values with Alpha2\n",
    "    \n",
    "    # Perform LogisticMapChaoticDecryption on EncryptedSecondaryWatermark singular values\n",
    "    \n",
    "    # Perform SVD on SecondaryWatermark (non-embedded)\n",
    "    \n",
    "    # Extract PrimaryWatermark DWT coeffs singular values with Alpha1\n",
    "    \n",
    "    # Perform ISVD to get PrimaryWatermark DWT coeffs\n",
    "    \n",
    "    # Perform IDWT to get PrimaryWatermark\n",
    "    \n",
    "    return"
   ]
  },
  {
   "cell_type": "code",
   "execution_count": 46,
   "metadata": {
    "collapsed": false
   },
   "outputs": [],
   "source": [
    "def LogisticMapChaoticEncryption(GrayscaleWatermark):\n",
    "    \"\"\"\n",
    "    Logistic map chaotic encryption implementation.\n",
    "    \n",
    "    Outputs encrypted watermark\n",
    "    \n",
    "    23-July-2015\n",
    "    \"\"\"\n",
    "    \n",
    "    #TODO: implement logistic map chaotic encryption\n",
    "    \n",
    "    EncryptedGrayscaleWatermark = GrayscaleWatermark\n",
    "    \n",
    "    return EncryptedGrayscaleWatermark; #some key?"
   ]
  },
  {
   "cell_type": "code",
   "execution_count": 47,
   "metadata": {
    "collapsed": false
   },
   "outputs": [],
   "source": [
    "def LogisticMapChaoticDecryption(EncryptedGrayscaleWatermark): #some key?\n",
    "    \"\"\"\n",
    "    Logistic map chaotic decryption implementation.\n",
    "    \n",
    "    Outputs original watermark\n",
    "    \n",
    "    23-July-2015\n",
    "    \"\"\"\n",
    "    \n",
    "    #TODO: implement logistic map chaotic decryption\n",
    "    \n",
    "    DecryptedGrayscaleWatermark = EncryptedGrayscaleWatermark\n",
    "    \n",
    "    return DecryptedGrayscaleWatermark;"
   ]
  },
  {
   "cell_type": "code",
   "execution_count": 48,
   "metadata": {
    "collapsed": false
   },
   "outputs": [
    {
     "name": "stdout",
     "output_type": "stream",
     "text": [
      "(750L, 750L)\n",
      "(64L,) (64L,) (64L,) (64L,)\n",
      "(64L,)\n"
     ]
    }
   ],
   "source": [
    "DhanalakshmiEmbed(\"C:\\Users\\Tony\\Documents\\GitHub\\steganography-embedding\\GrayscaleContainer.bmp\",\"C:\\Users\\Tony\\Documents\\GitHub\\steganography-embedding\\GrayscaleWatermark.bmp\",\"C:\\Users\\Tony\\Documents\\GitHub\\steganography-embedding\\GrayscaleSecondaryWatermark.bmp\",\"C:\\Users\\Tony\\Documents\\GitHub\\steganography-embedding\\Dhanalakshmi_Watermarked_Image.bmp\",0.7,0.8)"
   ]
  },
  {
   "cell_type": "code",
   "execution_count": null,
   "metadata": {
    "collapsed": true
   },
   "outputs": [],
   "source": []
  }
 ],
 "metadata": {
  "kernelspec": {
   "display_name": "Python 2",
   "language": "python",
   "name": "python2"
  },
  "language_info": {
   "codemirror_mode": {
    "name": "ipython",
    "version": 2
   },
   "file_extension": ".py",
   "mimetype": "text/x-python",
   "name": "python",
   "nbconvert_exporter": "python",
   "pygments_lexer": "ipython2",
   "version": "2.7.10"
  }
 },
 "nbformat": 4,
 "nbformat_minor": 0
}
