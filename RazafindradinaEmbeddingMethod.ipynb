{
 "cells": [
  {
   "cell_type": "code",
   "execution_count": 19,
   "metadata": {
    "collapsed": false
   },
   "outputs": [],
   "source": [
    "# -*- coding: utf-8 -*-\n",
    "\"\"\"\n",
    "Created on Thu Jul 23 2015\n",
    "\n",
    "@author: Anton at 0x0af@ukr.net\n",
    "\"\"\"\n",
    "\n",
    "import numpy\n",
    "import scipy\n",
    "import copy, math\n",
    "from scipy.fftpack import dct, idct\n",
    "from scipy.linalg import schur\n",
    "from PIL import Image"
   ]
  },
  {
   "cell_type": "code",
   "execution_count": 20,
   "metadata": {
    "collapsed": false
   },
   "outputs": [],
   "source": [
    "def SchurDecomposition(GrayscaleImage):\n",
    "    \"\"\"\n",
    "     Schur decomposition. Input a grayscale image to get it's upper triangular matrix and unitary matrix.\n",
    "     \n",
    "     Schur's theorem announced that : if A ∈ Cn×n, there exists a unitary matrix U and an upper triangular matrix T,\n",
    "     such that: A = U × T × U'\n",
    "     \n",
    "     0x0af@ukr.net, 23-July-2015\n",
    "    \"\"\"\n",
    "    \n",
    "    # TODO: implement Schur decomposition\n",
    "    \n",
    "    TriangularMatrix = GrayscaleImage\n",
    "    UnitaryMatrix = GrayscaleImage\n",
    "    \n",
    "    return TriangularMatrix, UnitaryMatrix"
   ]
  },
  {
   "cell_type": "code",
   "execution_count": 21,
   "metadata": {
    "collapsed": false
   },
   "outputs": [],
   "source": [
    "def InverseSchurDecomposition(UnitaryMatrix,TriangularMatrix):\n",
    "    \"\"\"\n",
    "     Inverse Schur decomposition. Input a 2D unitary matrix and a 2D triangular matrix to get the original grayscale image\n",
    "    \n",
    "     23-July-2015\n",
    "    \"\"\"\n",
    "    \n",
    "    # TODO: implement inverse Schur decomposition\n",
    "    \n",
    "    return OriginalGrayscaleImage"
   ]
  },
  {
   "cell_type": "code",
   "execution_count": 36,
   "metadata": {
    "collapsed": false
   },
   "outputs": [],
   "source": [
    "def RazafindradinaEmbed(GrayscaleContainerPath,GrayscaleWatermarkPath,Alpha):\n",
    "    \"\"\"    \n",
    "    Razafindradina embedding method implementation. \n",
    "    \n",
    "    Outputs the resulting watermarked image\n",
    "    \n",
    "    23-July-2015\n",
    "    \"\"\"\n",
    "    \n",
    "    grayscaleContainer2DArray = numpy.asarray(Image.open(GrayscaleContainerPath).convert(\"L\"))\n",
    "    grayscaleWatermark2DArray = numpy.asarray(Image.open(GrayscaleWatermarkPath).convert(\"L\"))\n",
    "    \n",
    "    assert (grayscaleContainer2DArray.shape[0]==grayscaleContainer2DArray.shape[1]) and (grayscaleContainer2DArray.shape[0]==grayscaleWatermark2DArray.shape[0]) and (grayscaleContainer2DArray.shape[1]==grayscaleWatermark2DArray.shape[1]), 'GrayscaleContainer and GrayscaleWatermark sizes do not match or not square' \n",
    "    \n",
    "    # Perform DCT on GrayscaleContainer\n",
    "    \n",
    "    #print grayscaleContainer2DArray\n",
    "    \n",
    "    grayscaleContainer2DArray = dct(dct(grayscaleContainer2DArray,axis=0),axis=1)\n",
    "    \n",
    "    #print grayscaleContainer2DArray\n",
    "    \n",
    "    # Perform SchurDecomposition on GrayscaleWatermark\n",
    "    \n",
    "    # Alpha-blend GrayscaleWatermark TriangularMatrix into GrayscaleContainer DCT coeffs with Alpha\n",
    "    \n",
    "    # Perform IDCT on GrayscaleContainer DCT coeffs to get WatermarkedImage\n",
    "    \n",
    "    watermarkedImage = Image.fromarray(numpy.uint8(grayscaleContainer2DArray))\n",
    "    #watermarkedImage.show()\n",
    "    \n",
    "    # Write image to file\n",
    "    \n",
    "    watermarkedImage.save(WatermarkedImagePath)\n",
    "    \n",
    "    return UnitaryMatrix"
   ]
  },
  {
   "cell_type": "code",
   "execution_count": 37,
   "metadata": {
    "collapsed": false
   },
   "outputs": [],
   "source": [
    "def RazafindradinaExtract(GrayscaleStegoPath, GrayscaleContainerPath, ExtractedGrayscaleWatermarkPath, UnitaryMatrix, Alpha):\n",
    "    \"\"\"\n",
    "    Rezefindradina extracting method implementation.\n",
    "    \n",
    "    Outputs the extracted watermark\n",
    "    \n",
    "    23-July-2015\n",
    "    \"\"\"\n",
    "    \n",
    "    grayscaleContainer2DArray = numpy.asarray(Image.open(GrayscaleContainerPath).convert(\"L\"))\n",
    "    grayscaleStego2DArray = numpy.asarray(Image.open(GrayscaleStegoPath).convert(\"L\"))\n",
    "    \n",
    "    # Perform DCT on GrayscaleContainer\n",
    "    \n",
    "    # Perform DCT on GrayscaleStego\n",
    "    \n",
    "    # Extract GrayscaleWatermark TriangularMatrix with Alpha\n",
    "    \n",
    "    # Perform InverseSchurDecomposition on UnitaryMatrix and TrinagularMatrix to get ExtractedGrayscaleWatermark\n",
    "    \n",
    "    extractedGrayscaleWatermark = Image.fromarray(numpy.uint8(GrayscaleWatermark))\n",
    "    #watermarkedImage.show()\n",
    "    \n",
    "    # Write image to file\n",
    "    \n",
    "    extractedGrayscaleWatermark.save(ExtractedGrayscaleWatermarkPath)\n",
    "    \n",
    "    return"
   ]
  },
  {
   "cell_type": "code",
   "execution_count": 38,
   "metadata": {
    "collapsed": false
   },
   "outputs": [
    {
     "ename": "ValueError",
     "evalue": "dtype uint8 not supported",
     "output_type": "error",
     "traceback": [
      "\u001b[1;31m---------------------------------------------------------------------------\u001b[0m",
      "\u001b[1;31mValueError\u001b[0m                                Traceback (most recent call last)",
      "\u001b[1;32m<ipython-input-38-2d324873b2da>\u001b[0m in \u001b[0;36m<module>\u001b[1;34m()\u001b[0m\n\u001b[1;32m----> 1\u001b[1;33m \u001b[0mRazafindradinaEmbed\u001b[0m\u001b[1;33m(\u001b[0m\u001b[1;34m\"C:\\Users\\Tony\\Documents\\GitHub\\steganography-embedding\\GrayscaleContainer.bmp\"\u001b[0m\u001b[1;33m,\u001b[0m\u001b[1;34m\"C:\\Users\\Tony\\Documents\\GitHub\\steganography-embedding\\SameSizeGrayscaleWatermark.bmp\"\u001b[0m\u001b[1;33m,\u001b[0m\u001b[1;36m0.1\u001b[0m\u001b[1;33m)\u001b[0m\u001b[1;33m\u001b[0m\u001b[0m\n\u001b[0m",
      "\u001b[1;32m<ipython-input-36-ae97fa6ee990>\u001b[0m in \u001b[0;36mRazafindradinaEmbed\u001b[1;34m(GrayscaleContainerPath, GrayscaleWatermarkPath, Alpha)\u001b[0m\n\u001b[0;32m     17\u001b[0m     \u001b[1;31m#print grayscaleContainer2DArray\u001b[0m\u001b[1;33m\u001b[0m\u001b[1;33m\u001b[0m\u001b[0m\n\u001b[0;32m     18\u001b[0m \u001b[1;33m\u001b[0m\u001b[0m\n\u001b[1;32m---> 19\u001b[1;33m     \u001b[0mgrayscaleContainer2DArray\u001b[0m \u001b[1;33m=\u001b[0m \u001b[0mdct\u001b[0m\u001b[1;33m(\u001b[0m\u001b[0mdct\u001b[0m\u001b[1;33m(\u001b[0m\u001b[0mgrayscaleContainer2DArray\u001b[0m\u001b[1;33m,\u001b[0m\u001b[0maxis\u001b[0m\u001b[1;33m=\u001b[0m\u001b[1;36m0\u001b[0m\u001b[1;33m)\u001b[0m\u001b[1;33m,\u001b[0m\u001b[0maxis\u001b[0m\u001b[1;33m=\u001b[0m\u001b[1;36m1\u001b[0m\u001b[1;33m)\u001b[0m\u001b[1;33m\u001b[0m\u001b[0m\n\u001b[0m\u001b[0;32m     20\u001b[0m \u001b[1;33m\u001b[0m\u001b[0m\n\u001b[0;32m     21\u001b[0m     \u001b[1;31m#print grayscaleContainer2DArray\u001b[0m\u001b[1;33m\u001b[0m\u001b[1;33m\u001b[0m\u001b[0m\n",
      "\u001b[1;32mC:\\Users\\Tony\\Anaconda\\lib\\site-packages\\scipy\\fftpack\\realtransforms.pyc\u001b[0m in \u001b[0;36mdct\u001b[1;34m(x, type, n, axis, norm, overwrite_x)\u001b[0m\n\u001b[0;32m    133\u001b[0m         raise NotImplementedError(\n\u001b[0;32m    134\u001b[0m               \"Orthonormalization not yet supported for DCT-I\")\n\u001b[1;32m--> 135\u001b[1;33m     \u001b[1;32mreturn\u001b[0m \u001b[0m_dct\u001b[0m\u001b[1;33m(\u001b[0m\u001b[0mx\u001b[0m\u001b[1;33m,\u001b[0m \u001b[0mtype\u001b[0m\u001b[1;33m,\u001b[0m \u001b[0mn\u001b[0m\u001b[1;33m,\u001b[0m \u001b[0maxis\u001b[0m\u001b[1;33m,\u001b[0m \u001b[0mnormalize\u001b[0m\u001b[1;33m=\u001b[0m\u001b[0mnorm\u001b[0m\u001b[1;33m,\u001b[0m \u001b[0moverwrite_x\u001b[0m\u001b[1;33m=\u001b[0m\u001b[0moverwrite_x\u001b[0m\u001b[1;33m)\u001b[0m\u001b[1;33m\u001b[0m\u001b[0m\n\u001b[0m\u001b[0;32m    136\u001b[0m \u001b[1;33m\u001b[0m\u001b[0m\n\u001b[0;32m    137\u001b[0m \u001b[1;33m\u001b[0m\u001b[0m\n",
      "\u001b[1;32mC:\\Users\\Tony\\Anaconda\\lib\\site-packages\\scipy\\fftpack\\realtransforms.pyc\u001b[0m in \u001b[0;36m_dct\u001b[1;34m(x, type, n, axis, overwrite_x, normalize)\u001b[0m\n\u001b[0;32m    243\u001b[0m             \u001b[1;32mraise\u001b[0m \u001b[0mValueError\u001b[0m\u001b[1;33m(\u001b[0m\u001b[1;34m\"Type %d not understood\"\u001b[0m \u001b[1;33m%\u001b[0m \u001b[0mtype\u001b[0m\u001b[1;33m)\u001b[0m\u001b[1;33m\u001b[0m\u001b[0m\n\u001b[0;32m    244\u001b[0m     \u001b[1;32melse\u001b[0m\u001b[1;33m:\u001b[0m\u001b[1;33m\u001b[0m\u001b[0m\n\u001b[1;32m--> 245\u001b[1;33m         \u001b[1;32mraise\u001b[0m \u001b[0mValueError\u001b[0m\u001b[1;33m(\u001b[0m\u001b[1;34m\"dtype %s not supported\"\u001b[0m \u001b[1;33m%\u001b[0m \u001b[0mtmp\u001b[0m\u001b[1;33m.\u001b[0m\u001b[0mdtype\u001b[0m\u001b[1;33m)\u001b[0m\u001b[1;33m\u001b[0m\u001b[0m\n\u001b[0m\u001b[0;32m    246\u001b[0m \u001b[1;33m\u001b[0m\u001b[0m\n\u001b[0;32m    247\u001b[0m     \u001b[1;32mif\u001b[0m \u001b[0mnormalize\u001b[0m\u001b[1;33m:\u001b[0m\u001b[1;33m\u001b[0m\u001b[0m\n",
      "\u001b[1;31mValueError\u001b[0m: dtype uint8 not supported"
     ]
    }
   ],
   "source": [
    "RazafindradinaEmbed(\"C:\\Users\\Tony\\Documents\\GitHub\\steganography-embedding\\GrayscaleContainer.bmp\",\"C:\\Users\\Tony\\Documents\\GitHub\\steganography-embedding\\SameSizeGrayscaleWatermark.bmp\",0.1)"
   ]
  },
  {
   "cell_type": "code",
   "execution_count": null,
   "metadata": {
    "collapsed": true
   },
   "outputs": [],
   "source": []
  }
 ],
 "metadata": {
  "kernelspec": {
   "display_name": "Python 2",
   "language": "python",
   "name": "python2"
  },
  "language_info": {
   "codemirror_mode": {
    "name": "ipython",
    "version": 2
   },
   "file_extension": ".py",
   "mimetype": "text/x-python",
   "name": "python",
   "nbconvert_exporter": "python",
   "pygments_lexer": "ipython2",
   "version": "2.7.10"
  }
 },
 "nbformat": 4,
 "nbformat_minor": 0
}
