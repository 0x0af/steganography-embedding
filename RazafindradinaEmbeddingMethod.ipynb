{
 "metadata": {
  "name": "RazafindradinaEmbeddingMethod"
 },
 "nbformat": 3,
 "nbformat_minor": 0,
 "worksheets": [
  {
   "cells": [
    {
     "cell_type": "code",
     "collapsed": false,
     "input": "# -*- coding: utf-8 -*-\n\"\"\"\nCreated on Thu Jul 23 2015\n\n@author: Anton at 0x0af@ukr.net\n\"\"\"\n\nimport numpy as np;\nimport scipy as sp;\nimport copy, math;\nfrom scipy.fftpack import dct, idct;",
     "language": "python",
     "metadata": {},
     "outputs": [],
     "prompt_number": 14
    },
    {
     "cell_type": "code",
     "collapsed": false,
     "input": "def SchurDecomposition(GrayscaleImage):\n    \"\"\"\n     Schur decomposition. Input a grayscale image to get it's upper triangular matrix and unitary matrix.\n     \n     Schur's theorem announced that : if A \u2208 Cn\u00d7n, there exists a unitary matrix U and an upper triangular matrix T,\n     such that: A = U \u00d7 T \u00d7 U'\n     \n     0x0af@ukr.net, 23-July-2015\n    \"\"\"\n    \n    assert(GrayscaleImage.ndim == 2),'Error. You should input grayscale image.';\n    \n    # TODO: implement Schur decomposition\n    \n    TriangularMatrix = GrayscaleImage;\n    UnitaryMatrix = GrayscaleImage;\n    \n    return TriangularMatrix, UnitaryMatrix;",
     "language": "python",
     "metadata": {},
     "outputs": [],
     "prompt_number": 22
    },
    {
     "cell_type": "code",
     "collapsed": false,
     "input": "def InverseSchurDecomposition(UnitaryMatrix,TriangularMatrix):\n    \"\"\"\n     Inverse Schur decomposition. Input a 2D unitary matrix and a 2D triangular matrix to get the original grayscale image\n    \n     23-July-2015\n    \"\"\"\n    \n    assert(UnitaryMatrix.ndim == 2),'Error. You should input a valid 2D unitary matrix.';\n    assert(TriangularMatrix.ndim == 2),'Error. You should input a valid 2D triangular matrix.';\n    \n    # TODO: implement inverse Schur decomposition\n    \n    return OriginalGrayscaleImage;",
     "language": "python",
     "metadata": {},
     "outputs": [],
     "prompt_number": 2
    },
    {
     "cell_type": "code",
     "collapsed": false,
     "input": "def RazafindradinaEmbed(GrayscaleContainer,GrayscaleWatermark,Alpha):\n    \"\"\"    \n    Razafindradina embedding method implementation. \n    \n    Outputs the resulting watermarked image\n    \n    23-July-2015\n    \"\"\"\n    \n    assert(TrueColorWatermark.ndim == 2),'Error. Stegodata should be represented as a grayscale image.';\n    assert(TrueColorContainer.ndim == 2),'Error. Cover image should be represented as a grayscale image.';\n    assert(isinstance(Alpha,float) and (Alpha > 0)),'Error. You should input the attenuation coefficient Alpha for stegodata as scalar (float type).';\n    \n    # TODO: implement embedding procedures\n    \n    return WatermarkedImage;",
     "language": "python",
     "metadata": {},
     "outputs": [],
     "prompt_number": 5
    },
    {
     "cell_type": "code",
     "collapsed": false,
     "input": "def RazafindradinaExtract(GrayscaleStego, UnitaryMatrix):\n    \"\"\"\n    Rezefindradina extacting method implementation.\n    \n    Outputs the extracted watermark\n    \n    23-July-2015\n    \"\"\"\n    \n    #TODO: implement extracting process\n    \n    return GrayscaleWatermark;",
     "language": "python",
     "metadata": {},
     "outputs": [],
     "prompt_number": 6
    },
    {
     "cell_type": "code",
     "collapsed": false,
     "input": "",
     "language": "python",
     "metadata": {},
     "outputs": []
    }
   ],
   "metadata": {}
  }
 ]
}