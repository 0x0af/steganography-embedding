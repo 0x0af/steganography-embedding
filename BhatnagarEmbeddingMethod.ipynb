{
 "metadata": {
  "name": "BhatnagarEmbeddingMethod"
 },
 "nbformat": 3,
 "nbformat_minor": 0,
 "worksheets": [
  {
   "cells": [
    {
     "cell_type": "code",
     "collapsed": false,
     "input": "# -*- coding: utf-8 -*-\n\"\"\"\nCreated on Thu Jul 23 2015\n\n@author: Anton at 0x0af@ukr.net\n\"\"\"\n\nimport numpy as np;\nimport scipy as sp;\nimport copy, math;\nfrom scipy.fftpack import dct, idct;",
     "language": "python",
     "metadata": {},
     "outputs": [],
     "prompt_number": 1
    },
    {
     "cell_type": "code",
     "collapsed": false,
     "input": "def BhatnagarEmbed(GrayscaleContainer,GrayscaleWatermark,Alpha):\n    \"\"\"    \n    Bhatnagar embedding method implementation. \n    \n    Outputs the resulting watermarked image\n    \n    23-July-2015\n    \"\"\"\n    \n    assert(GrayscaleWatermark.ndim == 2),'Error. Stegodata should be represented as a grayscale image.';\n    assert(GrayscaleContainer.ndim == 2),'Error. Cover image should be represented as grayscale image.';\n    assert(isinstance(Alpha,float) and (Alpha > 0)),'Error. You should input the attenuation coefficient Alpha for stegodata as scalar (float type).';\n    \n    # TODO: implement embedding procedures\n    \n    return WatermarkedImage, NormalisedHadamardMatrix;",
     "language": "python",
     "metadata": {},
     "outputs": [],
     "prompt_number": 7
    },
    {
     "cell_type": "code",
     "collapsed": false,
     "input": "def BhatnagarExtract(GrayscaleStego, NormalisedHadamardMatrix):\n    \"\"\"\n    Bhatnagar extacting method implementation.\n    \n    Outputs the extracted watermark\n    \n    23-July-2015\n    \"\"\"\n    \n    assert(GrayscaleStego.ndim == 2),'Error. Stego should be represented as a grayscale image.';\n    assert(NormalisedHadamardMatrix.ndim == 2),'Error. Normalised hadamard matrix should be represented as a 2D matrix';\n    \n    #TODO: implement extracting process\n    \n    return BinaryWatermark;",
     "language": "python",
     "metadata": {},
     "outputs": [],
     "prompt_number": 6
    },
    {
     "cell_type": "code",
     "collapsed": false,
     "input": "def MultiresolutionalWalshHadamardTransform(GrayscaleImage):\n    \"\"\"\n    MR-WHT implementation.\n    \n    Outputs 2-level MR-WHT transformed image\n    \n    23-July-2015\n    \"\"\"\n    \n    assert(GrayscaleImage.ndim == 2),'Error. Input should be a valid grayscale image';\n    \n    #TODO: implement genetic algorithm pretreatment\n    \n    return TransformedGrayscaleImage;",
     "language": "python",
     "metadata": {},
     "outputs": [],
     "prompt_number": 2
    },
    {
     "cell_type": "code",
     "collapsed": false,
     "input": "",
     "language": "python",
     "metadata": {},
     "outputs": [],
     "prompt_number": 1
    }
   ],
   "metadata": {}
  }
 ]
}