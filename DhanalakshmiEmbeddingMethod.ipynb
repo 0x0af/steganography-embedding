{
 "metadata": {
  "name": "DhanalakshmiEmbeddingMethod"
 },
 "nbformat": 3,
 "nbformat_minor": 0,
 "worksheets": [
  {
   "cells": [
    {
     "cell_type": "code",
     "collapsed": false,
     "input": "# -*- coding: utf-8 -*-\n\"\"\"\nCreated on Thu Jul 23 2015\n\n@author: Anton at 0x0af@ukr.net\n\"\"\"\n\nimport numpy as np;\nimport scipy as sp;\nimport copy, math;\nfrom scipy.fftpack import dct, idct;",
     "language": "python",
     "metadata": {},
     "outputs": [],
     "prompt_number": 1
    },
    {
     "cell_type": "code",
     "collapsed": false,
     "input": "def DhanalakshmiEmbed(GrayscaleContainer,GrayscalePrimaryWatermark,GrayscaleSecondaryWatermark,Alpha):\n    \"\"\"    \n    Dhanalakshmi embedding method implementation. \n    \n    Outputs the resulting watermarked image\n    \n    23-July-2015\n    \"\"\"\n    \n    assert(GrayscalePrimaryWatermark.ndim == 2),'Error. Stegodata should be represented as a grayscale image.';\n    assert(GrayscaleSecondaryWatermark.ndim == 2),'Error. Stegodata should be represented as a grayscale image.';\n    assert(GrayscaleContainer.ndim == 2),'Error. Cover image should be represented as a grayscale image.';\n    assert(isinstance(Alpha,float) and (Alpha > 0)),'Error. You should input the attenuation coefficient Alpha for stegodata as scalar (float type).';\n    \n    # TODO: implement embedding procedures\n    \n    # TODO: what is the key to the secondary watermark?! should probably return\n    \n    return WatermarkedImage;",
     "language": "python",
     "metadata": {},
     "outputs": [],
     "prompt_number": 5
    },
    {
     "cell_type": "code",
     "collapsed": false,
     "input": "def DhanalakshmiExtract(TrueColorStego):\n    \"\"\"\n    Dhanalakshmi extacting method implementation.\n    \n    Outputs the extracted watermark\n    \n    23-July-2015\n    \"\"\"\n    \n    #TODO: implement extracting process\n    \n    return BinaryWatermark;",
     "language": "python",
     "metadata": {},
     "outputs": [],
     "prompt_number": 6
    },
    {
     "cell_type": "code",
     "collapsed": false,
     "input": "def LogisticMapChaoticEncryption(GrayscaleWatermark):\n    \"\"\"\n    Logistic map chaotic encryption implementation.\n    \n    Outputs encrypted watermark\n    \n    23-July-2015\n    \"\"\"\n    \n    #TODO: implement genetic algorithm pretreatment\n    \n    return EncryptedGrayscaleWatermark; #some key?",
     "language": "python",
     "metadata": {},
     "outputs": [],
     "prompt_number": 2
    },
    {
     "cell_type": "code",
     "collapsed": false,
     "input": "def LogisticMapChaoticDecryption(EncryptedGrayscaleWatermark): #some key?\n    \"\"\"\n    Logistic map chaotic decryption implementation.\n    \n    Outputs original watermark\n    \n    23-July-2015\n    \"\"\"\n    \n    #TODO: implement genetic algorithm pretreatment\n    \n    return DecryptedGrayscaleWatermark;",
     "language": "python",
     "metadata": {},
     "outputs": [],
     "prompt_number": 4
    },
    {
     "cell_type": "code",
     "collapsed": false,
     "input": "",
     "language": "python",
     "metadata": {},
     "outputs": []
    }
   ],
   "metadata": {}
  }
 ]
}